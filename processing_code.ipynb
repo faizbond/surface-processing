{
 "cells": [
  {
   "cell_type": "code",
   "execution_count": 13,
   "metadata": {},
   "outputs": [
    {
     "data": {
      "text/plain": [
       "'\\nCreated on 2023-09-06 12:56:03\\n\\n@author: Faisal\\n\\nmodified from code by Joe Thomas\\n'"
      ]
     },
     "execution_count": 13,
     "metadata": {},
     "output_type": "execute_result"
    }
   ],
   "source": [
    "# -*- coding: utf-8 -*-\n",
    "\"\"\"\n",
    "Created on 2023-09-06 12:56:03\n",
    "\n",
    "@author: Faisal\n",
    "\n",
    "modified from code by Joe Thomas\n",
    "\"\"\""
   ]
  },
  {
   "cell_type": "code",
   "execution_count": 14,
   "metadata": {},
   "outputs": [],
   "source": [
    "# %cd processing\\ code\n",
    "# %ls"
   ]
  },
  {
   "cell_type": "code",
   "execution_count": 15,
   "metadata": {},
   "outputs": [],
   "source": [
    "# load libraries\n",
    "from scipy.io import loadmat\n",
    "import numpy as np\n",
    "import matplotlib.pyplot as plt\n",
    "import plotly.graph_objects as go\n",
    "import plotly.io as pio\n",
    "import os \n",
    "from tqdm import tqdm"
   ]
  },
  {
   "cell_type": "code",
   "execution_count": 16,
   "metadata": {},
   "outputs": [],
   "source": [
    "# Change this diectory to one of the folders you want to plot\n",
    "root_dir= '../SMI Data/8-30-23 Faisal samples/'\n",
    "# curr_dir = 'calcite Fe/loc 2'\n",
    "# dir = path + curr_dir\n",
    "# print()"
   ]
  },
  {
   "cell_type": "code",
   "execution_count": null,
   "metadata": {},
   "outputs": [],
   "source": [
    "\n",
    "def get_lowest_level_folders(root_dir):\n",
    "    folder_info = []\n",
    "    for root, dirs, files in os.walk(root_dir):\n",
    "        if not dirs:\n",
    "            # If there are no subdirectories in the current directory, it's a lowest-level folder\n",
    "            folder_name = os.path.basename(os.path.dirname(root)) + \"_\" + os.path.basename(root)\n",
    "            folder_info.append((folder_name, root))  # Save the combined folder name and path\n",
    "    \n",
    "    return folder_info\n",
    "\n",
    "# Example usage:\n",
    "directory_to_search = '../SMI Data/8-30-23 Faisal samples/'\n",
    "folder_info = get_lowest_level_folders(directory_to_search)\n",
    "\n",
    "# Now, you have a list of tuples containing (folder name, folder path)\n",
    "for folder_name, folder_path in folder_info:\n",
    "    print(\"Folder name:\", folder_name)\n",
    "    print(\"Folder path:\", folder_path)\n",
    "\n"
   ]
  },
  {
   "cell_type": "code",
   "execution_count": 18,
   "metadata": {},
   "outputs": [],
   "source": [
    "def plot_images(folder_path, folder_name, img_save_path = '../Processed/8-30-23/', section_x = 255):\n",
    "    try:\n",
    "        # Load the brightfield image\n",
    "        dat = loadmat(folder_path + '/spectrum_DC.mat')\n",
    "        spectrum_DC = dat[\"spectrum_DC\"]\n",
    "        brightfield = np.abs(spectrum_DC)\n",
    "\n",
    "        # Load the height  image\n",
    "        dat = loadmat(folder_path + '/OPL_final.mat')\n",
    "        OPL = dat[\"OPL_final\"]\n",
    "\n",
    "        # Create a 1x3 subplot grid with a smaller figure size\n",
    "        fig, axs = plt.subplots(1, 3, figsize=(12, 4))\n",
    "        fig.suptitle('Sample: {}'.format(folder_name))\n",
    "\n",
    "        # Display the brightfield image in the first subplot\n",
    "        im0 = axs[0].imshow(brightfield, aspect=0.5)\n",
    "        axs[0].set_title('Brightfield Image')\n",
    "        axs[0].set_xlabel('X-Axis')\n",
    "        axs[0].set_ylabel('Y-Axis')\n",
    "        axs[0].set_aspect(0.5)  # Adjust aspect ratio if needed\n",
    "        axs[0].grid(False)\n",
    "        plt.colorbar(im0, ax=axs[0])\n",
    "\n",
    "        # Display the height map image in the second subplot\n",
    "        im1 = axs[1].imshow(OPL, aspect=0.5)\n",
    "        axs[1].set_title('Height Map (OPL)')\n",
    "        axs[1].set_xlabel('X-Axis')\n",
    "        axs[1].set_ylabel('Y-Axis')\n",
    "        axs[1].set_aspect(0.5)  # Adjust aspect ratio if needed\n",
    "        axs[1].grid(False)\n",
    "        plt.colorbar(im1, ax=axs[1])\n",
    "\n",
    "        # Plot the vertical trace of the heightmap in the third subplot\n",
    "\n",
    "        axs[2].plot(np.linspace(0, 100, np.shape(OPL)[0]), OPL[:, section_x])\n",
    "        axs[2].set_title('Vertical Trace of Heightmap at x={}'.format(section_x))\n",
    "        axs[2].set_xlabel('Distance [$\\mu m$]')\n",
    "        axs[2].set_ylabel('Surface height [nm]')\n",
    "        axs[2].grid(False)\n",
    "\n",
    "        # Adjust spacing between subplots for better visualization\n",
    "        fig.tight_layout()\n",
    "        fig.subplots_adjust(top=0.88)\n",
    "\n",
    "        return OPL\n",
    "        \n",
    "        # Show the plot\n",
    "        plt.show()\n",
    "\n",
    "\n",
    "        # fig.savefig('{}'.format(img_save_path + folder_name))\n",
    "\n",
    "        \n",
    "        \n",
    "    except FileNotFoundError as e:\n",
    "        # Handle the FileNotFoundError in a generic way\n",
    "        print(f\"Error processing folder '{folder_name}': {e}\")"
   ]
  },
  {
   "cell_type": "code",
   "execution_count": null,
   "metadata": {},
   "outputs": [],
   "source": [
    "folder_info = get_lowest_level_folders(root_dir)\n",
    "\n",
    "for folder_name, folder_path in tqdm(folder_info):\n",
    "    plot_images(folder_name=folder_name, folder_path=folder_path)"
   ]
  },
  {
   "cell_type": "code",
   "execution_count": 20,
   "metadata": {},
   "outputs": [],
   "source": [
    "### 3D plotly surface plots\n",
    "\n",
    "def surface3D_plots(folder_path, folder_name, img_save_path = '../Processed/8-30-23/'):\n",
    "    \n",
    "    try:\n",
    "        # Load the height  image\n",
    "        dat = loadmat(folder_path + '/OPL_final.mat')\n",
    "        OPL = dat[\"OPL_final\"]\n",
    "\n",
    "        z_data= OPL \n",
    "\n",
    "        fig = go.Figure(data=[go.Surface(z=z_data, colorscale='rainbow')],\n",
    "                    )\n",
    "\n",
    "        fig.update_layout(title='3D surface plot', autosize=False,\n",
    "                        template = 'plotly_dark',\n",
    "                        scene=dict(aspectmode='cube')\n",
    "                        )             \n",
    "        fig.show()\n",
    "\n",
    "        # this saves the image in a different orientation\n",
    "        image_path = img_save_path + folder_name + '_3D.png'\n",
    "        pio.write_image(fig, image_path, format='png', width=600, height=600, scale=2)\n",
    "\n",
    "        name = 'eye = (x:0.1, y:0.1, z:1.5)'\n",
    "        camera = dict(\n",
    "            eye=dict(x=0.1, y=0.1, z=1.5)\n",
    "        )\n",
    "\n",
    "        fig.update_layout(scene_camera=camera, title=name)\n",
    "        fig.show()\n",
    "\n",
    "        # this saves the image in a different orientation\n",
    "        image_path = img_save_path + folder_name + '_v2_3D.png'\n",
    "        pio.write_image(fig, image_path, format='png', width=600, height=600, scale=2)\n",
    "\n",
    "    except FileNotFoundError as e:\n",
    "        # Handle the FileNotFoundError in a generic way\n",
    "        print(f\"Error processing folder '{folder_name}': {e}\")"
   ]
  },
  {
   "cell_type": "code",
   "execution_count": null,
   "metadata": {},
   "outputs": [],
   "source": [
    "# folder_info = get_lowest_level_folders(root_dir)\n",
    "\n",
    "for folder_name, folder_path in tqdm(folder_info):\n",
    "    surface3D_plots(folder_name=folder_name, folder_path=folder_path)"
   ]
  },
  {
   "cell_type": "code",
   "execution_count": null,
   "metadata": {},
   "outputs": [],
   "source": []
  },
  {
   "cell_type": "code",
   "execution_count": null,
   "metadata": {},
   "outputs": [],
   "source": []
  }
 ],
 "metadata": {
  "kernelspec": {
   "display_name": "Python 3 (ipykernel)",
   "language": "python",
   "name": "python3"
  },
  "language_info": {
   "codemirror_mode": {
    "name": "ipython",
    "version": 3
   },
   "file_extension": ".py",
   "mimetype": "text/x-python",
   "name": "python",
   "nbconvert_exporter": "python",
   "pygments_lexer": "ipython3",
   "version": "3.8.15"
  }
 },
 "nbformat": 4,
 "nbformat_minor": 4
}
